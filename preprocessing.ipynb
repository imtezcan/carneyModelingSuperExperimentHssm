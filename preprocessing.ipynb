{
 "cells": [
  {
   "cell_type": "code",
   "metadata": {
    "id": "e8NAif-xNDU5",
    "ExecuteTime": {
     "end_time": "2024-07-20T15:10:21.273124Z",
     "start_time": "2024-07-20T15:10:20.560768Z"
    }
   },
   "source": [
    "import pandas as pd\n",
    "import numpy as np\n",
    "import os, ast\n",
    "import matplotlib.pyplot as plt"
   ],
   "id": "e8NAif-xNDU5",
   "outputs": [],
   "execution_count": 1
  },
  {
   "cell_type": "markdown",
   "source": [
    "## Load The Data"
   ],
   "metadata": {
    "id": "r6YGNw00bXir"
   },
   "id": "r6YGNw00bXir"
  },
  {
   "metadata": {
    "ExecuteTime": {
     "end_time": "2024-07-20T15:11:12.490147Z",
     "start_time": "2024-07-20T15:11:12.196006Z"
    }
   },
   "cell_type": "code",
   "source": [
    "dataset_name = \"switching_interference\"\n",
    "data_path = 'data'\n",
    "df = pd.read_csv(f'{data_path}/{dataset_name}.csv')"
   ],
   "id": "a0093c3f357c9600",
   "outputs": [],
   "execution_count": 2
  },
  {
   "cell_type": "markdown",
   "source": [
    "## Basic Preprocessing for Modeling: Getting Response and Response Times"
   ],
   "metadata": {
    "id": "-fin0e1cbgae"
   },
   "id": "-fin0e1cbgae"
  },
  {
   "metadata": {
    "ExecuteTime": {
     "end_time": "2024-07-20T15:11:17.667353Z",
     "start_time": "2024-07-20T15:11:15.730197Z"
    }
   },
   "cell_type": "code",
   "source": [
    "# Parse key presses as list of dictionaries\n",
    "df['key_presses'] = df['key_presses'].apply(lambda x: ast.literal_eval(x) if isinstance(x, str) else x)\n",
    "# Drop training blocks\n",
    "df = df[~df['block'].str.startswith('train_')]\n",
    "# Add integer participant ids\n",
    "df['participant_id'] = pd.factorize(df['subj_id'])[0]\n",
    "# Add number of responses\n",
    "df['n_responses'] = df['key_presses'].apply(len)\n",
    "# Add rt and response columns\n",
    "df['rt'] = df.apply(lambda row: (row['key_presses'][0]['time'] - row['go_1_start']) / 1000 if len(row['key_presses']) > 0 else 0, axis=1)\n",
    "df['response'] = df.apply(lambda row: 1.0 if len(row['key_presses']) > 0 and row['key_presses'][0]['correct'] else -1.0, axis=1)"
   ],
   "id": "a6c5128338f2dcfd",
   "outputs": [],
   "execution_count": 3
  },
  {
   "metadata": {},
   "cell_type": "markdown",
   "source": "### Calculate task switches",
   "id": "557dbcf5c54270f4"
  },
  {
   "metadata": {
    "ExecuteTime": {
     "end_time": "2024-07-20T15:11:18.660761Z",
     "start_time": "2024-07-20T15:11:18.642181Z"
    }
   },
   "cell_type": "code",
   "source": [
    "# Shift task_1 column by 1 to get the previous trial's task and compare\n",
    "df['task_switch'] = (df['task_1'] != df['task_1'].shift(1)).astype(int)\n",
    "# Ensure the first trial is always 0\n",
    "df.loc[0, 'task_switch'] = 0"
   ],
   "id": "69e7627565ac2308",
   "outputs": [],
   "execution_count": 4
  },
  {
   "metadata": {},
   "cell_type": "markdown",
   "source": "### Filter participants and trials",
   "id": "99b44220a94f1445"
  },
  {
   "metadata": {
    "ExecuteTime": {
     "end_time": "2024-07-20T15:11:20.207199Z",
     "start_time": "2024-07-20T15:11:20.204524Z"
    }
   },
   "cell_type": "code",
   "source": [
    "ACCURACY_THRESHOLD = 0.7\n",
    "MAX_NUMBER_OF_RESPONSES = 3"
   ],
   "id": "d6833a3ebf8e20a7",
   "outputs": [],
   "execution_count": 5
  },
  {
   "metadata": {
    "ExecuteTime": {
     "end_time": "2024-07-20T15:11:21.847079Z",
     "start_time": "2024-07-20T15:11:21.844467Z"
    }
   },
   "cell_type": "code",
   "source": [
    "REMOVE_PARTICIPANTS_WITH_LOW_ACCURACY = True #@param {type: \"boolean\"}\n",
    "REMOVE_PARTICIPANTS_WITH_TOO_MANY_RESPONSES = True #@param {type:\"boolean\"}\n",
    "REMOVE_PARTICIPANTS_WITH_ZERO_RT = True #@param {type:\"boolean\"}\n",
    "REMOVE_TRIALS_WITH_MORE_THAN_MAX_RESPONSES = True #@param {type: \"boolean\"}\n",
    "REMOVE_TRIALS_WITH_NO_RESPONSE = True #@param {type: \"boolean\"}"
   ],
   "id": "58716c6be7117185",
   "outputs": [],
   "execution_count": 6
  },
  {
   "metadata": {
    "ExecuteTime": {
     "end_time": "2024-07-20T15:11:24.645625Z",
     "start_time": "2024-07-20T15:11:24.541164Z"
    }
   },
   "cell_type": "code",
   "source": "df.describe()",
   "id": "53285a17abbd5ca8",
   "outputs": [
    {
     "data": {
      "text/plain": [
       "         Unnamed: 0   trial_index    cue_1_start     cue_1_dur      cue_1_end  \\\n",
       "count  53840.000000  53840.000000   53840.000000  53840.000000   53840.000000   \n",
       "mean      39.500000     39.500000  116921.414266   2527.132244  119448.546509   \n",
       "std       23.092421     23.092421   71244.064053    397.850360   71319.863801   \n",
       "min        0.000000      0.000000       0.000000   1845.000000    1955.200000   \n",
       "25%       19.750000     19.750000   55876.030000   2300.000000   58013.575000   \n",
       "50%       39.500000     39.500000  113692.450000   2600.000000  116009.650000   \n",
       "75%       59.250000     59.250000  173871.475750   2900.000000  176603.240000   \n",
       "max       79.000000     79.000000  300725.400000   3000.000000  303525.400000   \n",
       "\n",
       "       task_2  cue_2_start  cue_2_dur  cue_2_end     go_1_start  ...  \\\n",
       "count     0.0          0.0        0.0        0.0   53840.000000  ...   \n",
       "mean      NaN          NaN        NaN        NaN  116921.414266  ...   \n",
       "std       NaN          NaN        NaN        NaN   71244.064053  ...   \n",
       "min       NaN          NaN        NaN        NaN       0.000000  ...   \n",
       "25%       NaN          NaN        NaN        NaN   55876.030000  ...   \n",
       "50%       NaN          NaN        NaN        NaN  113692.450000  ...   \n",
       "75%       NaN          NaN        NaN        NaN  173871.475750  ...   \n",
       "max       NaN          NaN        NaN        NaN  300725.400000  ...   \n",
       "\n",
       "       or_2_start  or_2_dur  or_2_end    trial_start      trial_end  \\\n",
       "count         0.0       0.0       0.0   53840.000000   53840.000000   \n",
       "mean          NaN       NaN       NaN  116921.414266  119448.546509   \n",
       "std           NaN       NaN       NaN   71244.064053   71319.863801   \n",
       "min           NaN       NaN       NaN       0.000000    1955.200000   \n",
       "25%           NaN       NaN       NaN   55876.030000   58013.575000   \n",
       "50%           NaN       NaN       NaN  113692.450000  116009.650000   \n",
       "75%           NaN       NaN       NaN  173871.475750  176603.240000   \n",
       "max           NaN       NaN       NaN  300725.400000  303525.400000   \n",
       "\n",
       "       participant_id   n_responses            rt      response   task_switch  \n",
       "count    53840.000000  53840.000000  53840.000000  53840.000000  53841.000000  \n",
       "mean        85.631501      1.328678      0.943871      0.534993      0.505377  \n",
       "std         49.731277      1.700989      0.438016      0.844865      0.499976  \n",
       "min          0.000000      0.000000      0.000000     -1.000000      0.000000  \n",
       "25%         43.000000      1.000000      0.702100      1.000000      0.000000  \n",
       "50%         86.000000      1.000000      0.893700      1.000000      1.000000  \n",
       "75%        129.000000      1.000000      1.157310      1.000000      1.000000  \n",
       "max        171.000000     85.000000      2.972800      1.000000      1.000000  \n",
       "\n",
       "[8 rows x 38 columns]"
      ],
      "text/html": [
       "<div>\n",
       "<style scoped>\n",
       "    .dataframe tbody tr th:only-of-type {\n",
       "        vertical-align: middle;\n",
       "    }\n",
       "\n",
       "    .dataframe tbody tr th {\n",
       "        vertical-align: top;\n",
       "    }\n",
       "\n",
       "    .dataframe thead th {\n",
       "        text-align: right;\n",
       "    }\n",
       "</style>\n",
       "<table border=\"1\" class=\"dataframe\">\n",
       "  <thead>\n",
       "    <tr style=\"text-align: right;\">\n",
       "      <th></th>\n",
       "      <th>Unnamed: 0</th>\n",
       "      <th>trial_index</th>\n",
       "      <th>cue_1_start</th>\n",
       "      <th>cue_1_dur</th>\n",
       "      <th>cue_1_end</th>\n",
       "      <th>task_2</th>\n",
       "      <th>cue_2_start</th>\n",
       "      <th>cue_2_dur</th>\n",
       "      <th>cue_2_end</th>\n",
       "      <th>go_1_start</th>\n",
       "      <th>...</th>\n",
       "      <th>or_2_start</th>\n",
       "      <th>or_2_dur</th>\n",
       "      <th>or_2_end</th>\n",
       "      <th>trial_start</th>\n",
       "      <th>trial_end</th>\n",
       "      <th>participant_id</th>\n",
       "      <th>n_responses</th>\n",
       "      <th>rt</th>\n",
       "      <th>response</th>\n",
       "      <th>task_switch</th>\n",
       "    </tr>\n",
       "  </thead>\n",
       "  <tbody>\n",
       "    <tr>\n",
       "      <th>count</th>\n",
       "      <td>53840.000000</td>\n",
       "      <td>53840.000000</td>\n",
       "      <td>53840.000000</td>\n",
       "      <td>53840.000000</td>\n",
       "      <td>53840.000000</td>\n",
       "      <td>0.0</td>\n",
       "      <td>0.0</td>\n",
       "      <td>0.0</td>\n",
       "      <td>0.0</td>\n",
       "      <td>53840.000000</td>\n",
       "      <td>...</td>\n",
       "      <td>0.0</td>\n",
       "      <td>0.0</td>\n",
       "      <td>0.0</td>\n",
       "      <td>53840.000000</td>\n",
       "      <td>53840.000000</td>\n",
       "      <td>53840.000000</td>\n",
       "      <td>53840.000000</td>\n",
       "      <td>53840.000000</td>\n",
       "      <td>53840.000000</td>\n",
       "      <td>53841.000000</td>\n",
       "    </tr>\n",
       "    <tr>\n",
       "      <th>mean</th>\n",
       "      <td>39.500000</td>\n",
       "      <td>39.500000</td>\n",
       "      <td>116921.414266</td>\n",
       "      <td>2527.132244</td>\n",
       "      <td>119448.546509</td>\n",
       "      <td>NaN</td>\n",
       "      <td>NaN</td>\n",
       "      <td>NaN</td>\n",
       "      <td>NaN</td>\n",
       "      <td>116921.414266</td>\n",
       "      <td>...</td>\n",
       "      <td>NaN</td>\n",
       "      <td>NaN</td>\n",
       "      <td>NaN</td>\n",
       "      <td>116921.414266</td>\n",
       "      <td>119448.546509</td>\n",
       "      <td>85.631501</td>\n",
       "      <td>1.328678</td>\n",
       "      <td>0.943871</td>\n",
       "      <td>0.534993</td>\n",
       "      <td>0.505377</td>\n",
       "    </tr>\n",
       "    <tr>\n",
       "      <th>std</th>\n",
       "      <td>23.092421</td>\n",
       "      <td>23.092421</td>\n",
       "      <td>71244.064053</td>\n",
       "      <td>397.850360</td>\n",
       "      <td>71319.863801</td>\n",
       "      <td>NaN</td>\n",
       "      <td>NaN</td>\n",
       "      <td>NaN</td>\n",
       "      <td>NaN</td>\n",
       "      <td>71244.064053</td>\n",
       "      <td>...</td>\n",
       "      <td>NaN</td>\n",
       "      <td>NaN</td>\n",
       "      <td>NaN</td>\n",
       "      <td>71244.064053</td>\n",
       "      <td>71319.863801</td>\n",
       "      <td>49.731277</td>\n",
       "      <td>1.700989</td>\n",
       "      <td>0.438016</td>\n",
       "      <td>0.844865</td>\n",
       "      <td>0.499976</td>\n",
       "    </tr>\n",
       "    <tr>\n",
       "      <th>min</th>\n",
       "      <td>0.000000</td>\n",
       "      <td>0.000000</td>\n",
       "      <td>0.000000</td>\n",
       "      <td>1845.000000</td>\n",
       "      <td>1955.200000</td>\n",
       "      <td>NaN</td>\n",
       "      <td>NaN</td>\n",
       "      <td>NaN</td>\n",
       "      <td>NaN</td>\n",
       "      <td>0.000000</td>\n",
       "      <td>...</td>\n",
       "      <td>NaN</td>\n",
       "      <td>NaN</td>\n",
       "      <td>NaN</td>\n",
       "      <td>0.000000</td>\n",
       "      <td>1955.200000</td>\n",
       "      <td>0.000000</td>\n",
       "      <td>0.000000</td>\n",
       "      <td>0.000000</td>\n",
       "      <td>-1.000000</td>\n",
       "      <td>0.000000</td>\n",
       "    </tr>\n",
       "    <tr>\n",
       "      <th>25%</th>\n",
       "      <td>19.750000</td>\n",
       "      <td>19.750000</td>\n",
       "      <td>55876.030000</td>\n",
       "      <td>2300.000000</td>\n",
       "      <td>58013.575000</td>\n",
       "      <td>NaN</td>\n",
       "      <td>NaN</td>\n",
       "      <td>NaN</td>\n",
       "      <td>NaN</td>\n",
       "      <td>55876.030000</td>\n",
       "      <td>...</td>\n",
       "      <td>NaN</td>\n",
       "      <td>NaN</td>\n",
       "      <td>NaN</td>\n",
       "      <td>55876.030000</td>\n",
       "      <td>58013.575000</td>\n",
       "      <td>43.000000</td>\n",
       "      <td>1.000000</td>\n",
       "      <td>0.702100</td>\n",
       "      <td>1.000000</td>\n",
       "      <td>0.000000</td>\n",
       "    </tr>\n",
       "    <tr>\n",
       "      <th>50%</th>\n",
       "      <td>39.500000</td>\n",
       "      <td>39.500000</td>\n",
       "      <td>113692.450000</td>\n",
       "      <td>2600.000000</td>\n",
       "      <td>116009.650000</td>\n",
       "      <td>NaN</td>\n",
       "      <td>NaN</td>\n",
       "      <td>NaN</td>\n",
       "      <td>NaN</td>\n",
       "      <td>113692.450000</td>\n",
       "      <td>...</td>\n",
       "      <td>NaN</td>\n",
       "      <td>NaN</td>\n",
       "      <td>NaN</td>\n",
       "      <td>113692.450000</td>\n",
       "      <td>116009.650000</td>\n",
       "      <td>86.000000</td>\n",
       "      <td>1.000000</td>\n",
       "      <td>0.893700</td>\n",
       "      <td>1.000000</td>\n",
       "      <td>1.000000</td>\n",
       "    </tr>\n",
       "    <tr>\n",
       "      <th>75%</th>\n",
       "      <td>59.250000</td>\n",
       "      <td>59.250000</td>\n",
       "      <td>173871.475750</td>\n",
       "      <td>2900.000000</td>\n",
       "      <td>176603.240000</td>\n",
       "      <td>NaN</td>\n",
       "      <td>NaN</td>\n",
       "      <td>NaN</td>\n",
       "      <td>NaN</td>\n",
       "      <td>173871.475750</td>\n",
       "      <td>...</td>\n",
       "      <td>NaN</td>\n",
       "      <td>NaN</td>\n",
       "      <td>NaN</td>\n",
       "      <td>173871.475750</td>\n",
       "      <td>176603.240000</td>\n",
       "      <td>129.000000</td>\n",
       "      <td>1.000000</td>\n",
       "      <td>1.157310</td>\n",
       "      <td>1.000000</td>\n",
       "      <td>1.000000</td>\n",
       "    </tr>\n",
       "    <tr>\n",
       "      <th>max</th>\n",
       "      <td>79.000000</td>\n",
       "      <td>79.000000</td>\n",
       "      <td>300725.400000</td>\n",
       "      <td>3000.000000</td>\n",
       "      <td>303525.400000</td>\n",
       "      <td>NaN</td>\n",
       "      <td>NaN</td>\n",
       "      <td>NaN</td>\n",
       "      <td>NaN</td>\n",
       "      <td>300725.400000</td>\n",
       "      <td>...</td>\n",
       "      <td>NaN</td>\n",
       "      <td>NaN</td>\n",
       "      <td>NaN</td>\n",
       "      <td>300725.400000</td>\n",
       "      <td>303525.400000</td>\n",
       "      <td>171.000000</td>\n",
       "      <td>85.000000</td>\n",
       "      <td>2.972800</td>\n",
       "      <td>1.000000</td>\n",
       "      <td>1.000000</td>\n",
       "    </tr>\n",
       "  </tbody>\n",
       "</table>\n",
       "<p>8 rows × 38 columns</p>\n",
       "</div>"
      ]
     },
     "execution_count": 7,
     "metadata": {},
     "output_type": "execute_result"
    }
   ],
   "execution_count": 7
  },
  {
   "metadata": {
    "ExecuteTime": {
     "end_time": "2024-07-20T15:11:43.278941Z",
     "start_time": "2024-07-20T15:11:43.273159Z"
    }
   },
   "cell_type": "code",
   "source": [
    "def filter(df):\n",
    "    print(len(df), \"number of trials and\", len(df['subj_id'].unique()) ,\"participants before filtering.\")\n",
    "    if REMOVE_PARTICIPANTS_WITH_ZERO_RT:\n",
    "        # Identify participants with any rt value of 0\n",
    "        participants_with_rt_zero = df.groupby('subj_id')['rt'].apply(lambda x: (x == 0.0).any())\n",
    "        # Get participants to keep (those without any rt value of 0)\n",
    "        participants_to_keep = participants_with_rt_zero[~participants_with_rt_zero].index\n",
    "        # Filter the DataFrame to keep only the participants without any rt value of 0\n",
    "        df = df[df['subj_id'].isin(participants_to_keep)]\n",
    "        print(len(df), \"number of trials and\", len(df['subj_id'].unique()) ,\"participants after dropping participants with 0 RT.\")\n",
    "    if REMOVE_PARTICIPANTS_WITH_TOO_MANY_RESPONSES:\n",
    "        # Get indexes of participants who have max number of responses and not more\n",
    "        participants_to_drop = df.groupby('subj_id')['n_responses'].apply(lambda x: (x > MAX_NUMBER_OF_RESPONSES).any())\n",
    "        # Filter the DataFrame to keep only the participants without any rt value of 0\n",
    "        participants_to_keep = participants_to_drop[~participants_to_drop].index\n",
    "        df = df[df['subj_id'].isin(participants_to_keep)]\n",
    "        print(len(df), \"number of trials and\", len(df['subj_id'].unique()) ,\"participants after dropping participants with too many responses\")   \n",
    "    if REMOVE_PARTICIPANTS_WITH_LOW_ACCURACY:\n",
    "        accuracy = df.groupby('subj_id')['response'].apply(lambda x: (x == 1.0).mean())\n",
    "        participants_to_keep = accuracy[accuracy >= ACCURACY_THRESHOLD].index\n",
    "        df = df[df['subj_id'].isin(participants_to_keep)]        \n",
    "        print(len(df), \"number of trials and\", len(df['subj_id'].unique()) ,\"participants after filtering out low accuracy participants\")\n",
    "    if REMOVE_TRIALS_WITH_MORE_THAN_MAX_RESPONSES:\n",
    "      df = df[df['key_presses'].apply(len) <= MAX_NUMBER_OF_RESPONSES]\n",
    "      print(len(df), \"number of trials and\", len(df['subj_id'].unique()) ,\"participants after filtering out high response trials.\")\n",
    "    if REMOVE_TRIALS_WITH_NO_RESPONSE:\n",
    "      df = df[df['key_presses'].apply(len) > 0]\n",
    "      print(len(df), \"number of trials and\", len(df['subj_id'].unique()) ,\"participants after filtering no response trials.\") \n",
    "    \n",
    "    return df"
   ],
   "id": "c8823cc003920cbd",
   "outputs": [],
   "execution_count": 10
  },
  {
   "metadata": {
    "ExecuteTime": {
     "end_time": "2024-07-20T15:11:44.370998Z",
     "start_time": "2024-07-20T15:11:44.316981Z"
    }
   },
   "cell_type": "code",
   "source": "df = filter(df)",
   "id": "aefdf4bce7248e77",
   "outputs": [
    {
     "name": "stdout",
     "output_type": "stream",
     "text": [
      "53841 number of trials and 173 participants before filtering.\n",
      "18160 number of trials and 57 participants after dropping participants with 0 RT.\n",
      "14000 number of trials and 44 participants after dropping participants with too many responses\n",
      "13680 number of trials and 43 participants after filtering out low accuracy participants\n",
      "13680 number of trials and 43 participants after filtering out high response trials.\n",
      "13680 number of trials and 43 participants after filtering no response trials.\n"
     ]
    }
   ],
   "execution_count": 11
  },
  {
   "metadata": {
    "ExecuteTime": {
     "end_time": "2024-07-20T15:11:48.477662Z",
     "start_time": "2024-07-20T15:11:48.436431Z"
    }
   },
   "cell_type": "code",
   "source": "df.describe()",
   "id": "a7bc73b042f5cd8c",
   "outputs": [
    {
     "data": {
      "text/plain": [
       "         Unnamed: 0   trial_index    cue_1_start     cue_1_dur      cue_1_end  \\\n",
       "count  13680.000000  13680.000000   13680.000000  13680.000000   13680.000000   \n",
       "mean      39.500000     39.500000  121748.224235   2655.906433  124404.130667   \n",
       "std       23.093051     23.093051   72779.429313    339.789905   72822.189042   \n",
       "min        0.000000      0.000000       0.400000   1845.000000    1955.300000   \n",
       "25%       19.750000     19.750000   59999.575000   2300.000000   61844.575000   \n",
       "50%       39.500000     39.500000  119886.850000   2800.000000  121815.400000   \n",
       "75%       59.250000     59.250000  182702.625000   2970.000000  185304.085000   \n",
       "max       79.000000     79.000000  300725.400000   3000.000000  303525.400000   \n",
       "\n",
       "       task_2  cue_2_start  cue_2_dur  cue_2_end     go_1_start  ...  \\\n",
       "count     0.0          0.0        0.0        0.0   13680.000000  ...   \n",
       "mean      NaN          NaN        NaN        NaN  121748.224235  ...   \n",
       "std       NaN          NaN        NaN        NaN   72779.429313  ...   \n",
       "min       NaN          NaN        NaN        NaN       0.400000  ...   \n",
       "25%       NaN          NaN        NaN        NaN   59999.575000  ...   \n",
       "50%       NaN          NaN        NaN        NaN  119886.850000  ...   \n",
       "75%       NaN          NaN        NaN        NaN  182702.625000  ...   \n",
       "max       NaN          NaN        NaN        NaN  300725.400000  ...   \n",
       "\n",
       "       or_2_start  or_2_dur  or_2_end    trial_start      trial_end  \\\n",
       "count         0.0       0.0       0.0   13680.000000   13680.000000   \n",
       "mean          NaN       NaN       NaN  121748.224235  124404.130667   \n",
       "std           NaN       NaN       NaN   72779.429313   72822.189042   \n",
       "min           NaN       NaN       NaN       0.400000    1955.300000   \n",
       "25%           NaN       NaN       NaN   59999.575000   61844.575000   \n",
       "50%           NaN       NaN       NaN  119886.850000  121815.400000   \n",
       "75%           NaN       NaN       NaN  182702.625000  185304.085000   \n",
       "max           NaN       NaN       NaN  300725.400000  303525.400000   \n",
       "\n",
       "       participant_id   n_responses            rt      response   task_switch  \n",
       "count    13680.000000  13680.000000  13680.000000  13680.000000  13680.000000  \n",
       "mean        95.116959      1.052632      0.885209      0.892982      0.502266  \n",
       "std         44.752124      0.240638      0.287035      0.450108      0.500013  \n",
       "min          4.000000      1.000000      0.089100     -1.000000      0.000000  \n",
       "25%         56.000000      1.000000      0.690815      1.000000      0.000000  \n",
       "50%         98.000000      1.000000      0.822000      1.000000      1.000000  \n",
       "75%        138.000000      1.000000      1.006070      1.000000      1.000000  \n",
       "max        169.000000      3.000000      2.851300      1.000000      1.000000  \n",
       "\n",
       "[8 rows x 38 columns]"
      ],
      "text/html": [
       "<div>\n",
       "<style scoped>\n",
       "    .dataframe tbody tr th:only-of-type {\n",
       "        vertical-align: middle;\n",
       "    }\n",
       "\n",
       "    .dataframe tbody tr th {\n",
       "        vertical-align: top;\n",
       "    }\n",
       "\n",
       "    .dataframe thead th {\n",
       "        text-align: right;\n",
       "    }\n",
       "</style>\n",
       "<table border=\"1\" class=\"dataframe\">\n",
       "  <thead>\n",
       "    <tr style=\"text-align: right;\">\n",
       "      <th></th>\n",
       "      <th>Unnamed: 0</th>\n",
       "      <th>trial_index</th>\n",
       "      <th>cue_1_start</th>\n",
       "      <th>cue_1_dur</th>\n",
       "      <th>cue_1_end</th>\n",
       "      <th>task_2</th>\n",
       "      <th>cue_2_start</th>\n",
       "      <th>cue_2_dur</th>\n",
       "      <th>cue_2_end</th>\n",
       "      <th>go_1_start</th>\n",
       "      <th>...</th>\n",
       "      <th>or_2_start</th>\n",
       "      <th>or_2_dur</th>\n",
       "      <th>or_2_end</th>\n",
       "      <th>trial_start</th>\n",
       "      <th>trial_end</th>\n",
       "      <th>participant_id</th>\n",
       "      <th>n_responses</th>\n",
       "      <th>rt</th>\n",
       "      <th>response</th>\n",
       "      <th>task_switch</th>\n",
       "    </tr>\n",
       "  </thead>\n",
       "  <tbody>\n",
       "    <tr>\n",
       "      <th>count</th>\n",
       "      <td>13680.000000</td>\n",
       "      <td>13680.000000</td>\n",
       "      <td>13680.000000</td>\n",
       "      <td>13680.000000</td>\n",
       "      <td>13680.000000</td>\n",
       "      <td>0.0</td>\n",
       "      <td>0.0</td>\n",
       "      <td>0.0</td>\n",
       "      <td>0.0</td>\n",
       "      <td>13680.000000</td>\n",
       "      <td>...</td>\n",
       "      <td>0.0</td>\n",
       "      <td>0.0</td>\n",
       "      <td>0.0</td>\n",
       "      <td>13680.000000</td>\n",
       "      <td>13680.000000</td>\n",
       "      <td>13680.000000</td>\n",
       "      <td>13680.000000</td>\n",
       "      <td>13680.000000</td>\n",
       "      <td>13680.000000</td>\n",
       "      <td>13680.000000</td>\n",
       "    </tr>\n",
       "    <tr>\n",
       "      <th>mean</th>\n",
       "      <td>39.500000</td>\n",
       "      <td>39.500000</td>\n",
       "      <td>121748.224235</td>\n",
       "      <td>2655.906433</td>\n",
       "      <td>124404.130667</td>\n",
       "      <td>NaN</td>\n",
       "      <td>NaN</td>\n",
       "      <td>NaN</td>\n",
       "      <td>NaN</td>\n",
       "      <td>121748.224235</td>\n",
       "      <td>...</td>\n",
       "      <td>NaN</td>\n",
       "      <td>NaN</td>\n",
       "      <td>NaN</td>\n",
       "      <td>121748.224235</td>\n",
       "      <td>124404.130667</td>\n",
       "      <td>95.116959</td>\n",
       "      <td>1.052632</td>\n",
       "      <td>0.885209</td>\n",
       "      <td>0.892982</td>\n",
       "      <td>0.502266</td>\n",
       "    </tr>\n",
       "    <tr>\n",
       "      <th>std</th>\n",
       "      <td>23.093051</td>\n",
       "      <td>23.093051</td>\n",
       "      <td>72779.429313</td>\n",
       "      <td>339.789905</td>\n",
       "      <td>72822.189042</td>\n",
       "      <td>NaN</td>\n",
       "      <td>NaN</td>\n",
       "      <td>NaN</td>\n",
       "      <td>NaN</td>\n",
       "      <td>72779.429313</td>\n",
       "      <td>...</td>\n",
       "      <td>NaN</td>\n",
       "      <td>NaN</td>\n",
       "      <td>NaN</td>\n",
       "      <td>72779.429313</td>\n",
       "      <td>72822.189042</td>\n",
       "      <td>44.752124</td>\n",
       "      <td>0.240638</td>\n",
       "      <td>0.287035</td>\n",
       "      <td>0.450108</td>\n",
       "      <td>0.500013</td>\n",
       "    </tr>\n",
       "    <tr>\n",
       "      <th>min</th>\n",
       "      <td>0.000000</td>\n",
       "      <td>0.000000</td>\n",
       "      <td>0.400000</td>\n",
       "      <td>1845.000000</td>\n",
       "      <td>1955.300000</td>\n",
       "      <td>NaN</td>\n",
       "      <td>NaN</td>\n",
       "      <td>NaN</td>\n",
       "      <td>NaN</td>\n",
       "      <td>0.400000</td>\n",
       "      <td>...</td>\n",
       "      <td>NaN</td>\n",
       "      <td>NaN</td>\n",
       "      <td>NaN</td>\n",
       "      <td>0.400000</td>\n",
       "      <td>1955.300000</td>\n",
       "      <td>4.000000</td>\n",
       "      <td>1.000000</td>\n",
       "      <td>0.089100</td>\n",
       "      <td>-1.000000</td>\n",
       "      <td>0.000000</td>\n",
       "    </tr>\n",
       "    <tr>\n",
       "      <th>25%</th>\n",
       "      <td>19.750000</td>\n",
       "      <td>19.750000</td>\n",
       "      <td>59999.575000</td>\n",
       "      <td>2300.000000</td>\n",
       "      <td>61844.575000</td>\n",
       "      <td>NaN</td>\n",
       "      <td>NaN</td>\n",
       "      <td>NaN</td>\n",
       "      <td>NaN</td>\n",
       "      <td>59999.575000</td>\n",
       "      <td>...</td>\n",
       "      <td>NaN</td>\n",
       "      <td>NaN</td>\n",
       "      <td>NaN</td>\n",
       "      <td>59999.575000</td>\n",
       "      <td>61844.575000</td>\n",
       "      <td>56.000000</td>\n",
       "      <td>1.000000</td>\n",
       "      <td>0.690815</td>\n",
       "      <td>1.000000</td>\n",
       "      <td>0.000000</td>\n",
       "    </tr>\n",
       "    <tr>\n",
       "      <th>50%</th>\n",
       "      <td>39.500000</td>\n",
       "      <td>39.500000</td>\n",
       "      <td>119886.850000</td>\n",
       "      <td>2800.000000</td>\n",
       "      <td>121815.400000</td>\n",
       "      <td>NaN</td>\n",
       "      <td>NaN</td>\n",
       "      <td>NaN</td>\n",
       "      <td>NaN</td>\n",
       "      <td>119886.850000</td>\n",
       "      <td>...</td>\n",
       "      <td>NaN</td>\n",
       "      <td>NaN</td>\n",
       "      <td>NaN</td>\n",
       "      <td>119886.850000</td>\n",
       "      <td>121815.400000</td>\n",
       "      <td>98.000000</td>\n",
       "      <td>1.000000</td>\n",
       "      <td>0.822000</td>\n",
       "      <td>1.000000</td>\n",
       "      <td>1.000000</td>\n",
       "    </tr>\n",
       "    <tr>\n",
       "      <th>75%</th>\n",
       "      <td>59.250000</td>\n",
       "      <td>59.250000</td>\n",
       "      <td>182702.625000</td>\n",
       "      <td>2970.000000</td>\n",
       "      <td>185304.085000</td>\n",
       "      <td>NaN</td>\n",
       "      <td>NaN</td>\n",
       "      <td>NaN</td>\n",
       "      <td>NaN</td>\n",
       "      <td>182702.625000</td>\n",
       "      <td>...</td>\n",
       "      <td>NaN</td>\n",
       "      <td>NaN</td>\n",
       "      <td>NaN</td>\n",
       "      <td>182702.625000</td>\n",
       "      <td>185304.085000</td>\n",
       "      <td>138.000000</td>\n",
       "      <td>1.000000</td>\n",
       "      <td>1.006070</td>\n",
       "      <td>1.000000</td>\n",
       "      <td>1.000000</td>\n",
       "    </tr>\n",
       "    <tr>\n",
       "      <th>max</th>\n",
       "      <td>79.000000</td>\n",
       "      <td>79.000000</td>\n",
       "      <td>300725.400000</td>\n",
       "      <td>3000.000000</td>\n",
       "      <td>303525.400000</td>\n",
       "      <td>NaN</td>\n",
       "      <td>NaN</td>\n",
       "      <td>NaN</td>\n",
       "      <td>NaN</td>\n",
       "      <td>300725.400000</td>\n",
       "      <td>...</td>\n",
       "      <td>NaN</td>\n",
       "      <td>NaN</td>\n",
       "      <td>NaN</td>\n",
       "      <td>300725.400000</td>\n",
       "      <td>303525.400000</td>\n",
       "      <td>169.000000</td>\n",
       "      <td>3.000000</td>\n",
       "      <td>2.851300</td>\n",
       "      <td>1.000000</td>\n",
       "      <td>1.000000</td>\n",
       "    </tr>\n",
       "  </tbody>\n",
       "</table>\n",
       "<p>8 rows × 38 columns</p>\n",
       "</div>"
      ]
     },
     "execution_count": 12,
     "metadata": {},
     "output_type": "execute_result"
    }
   ],
   "execution_count": 12
  },
  {
   "metadata": {
    "ExecuteTime": {
     "end_time": "2024-07-20T10:21:21.914516Z",
     "start_time": "2024-07-20T10:21:21.683770Z"
    }
   },
   "cell_type": "code",
   "source": "df.to_csv(f'data/{dataset_name}_preprocessed.csv', index=False)",
   "id": "2b5a39e1deb6462",
   "outputs": [],
   "execution_count": 121
  },
  {
   "cell_type": "markdown",
   "source": [
    "## Descriptive Stuff after Filtering"
   ],
   "metadata": {
    "id": "rVVgQhULSFnr"
   },
   "id": "rVVgQhULSFnr"
  },
  {
   "metadata": {
    "ExecuteTime": {
     "end_time": "2024-07-20T15:11:57.374941Z",
     "start_time": "2024-07-20T15:11:57.357849Z"
    }
   },
   "cell_type": "code",
   "source": "df.head()",
   "id": "4fa7288081ed8ce",
   "outputs": [
    {
     "data": {
      "text/plain": [
       "      Unnamed: 0           subj_id              prolific_pid    block  \\\n",
       "1865         0.0  5aLYmsSb0wjFCzSc  628667709c7e31f9018e77d5  block_1   \n",
       "1866         1.0  5aLYmsSb0wjFCzSc  628667709c7e31f9018e77d5  block_1   \n",
       "1867         2.0  5aLYmsSb0wjFCzSc  628667709c7e31f9018e77d5  block_1   \n",
       "1868         3.0  5aLYmsSb0wjFCzSc  628667709c7e31f9018e77d5  block_1   \n",
       "1869         4.0  5aLYmsSb0wjFCzSc  628667709c7e31f9018e77d5  block_1   \n",
       "\n",
       "      trial_index                        file_path task_1  cue_1_start  \\\n",
       "1865          0.0  ./aw_task_switching/res/20.json     or      187.891   \n",
       "1866          1.0  ./aw_task_switching/res/20.json    mov     3530.268   \n",
       "1867          2.0  ./aw_task_switching/res/20.json    mov     6872.468   \n",
       "1868          3.0  ./aw_task_switching/res/20.json    mov    10214.668   \n",
       "1869          4.0  ./aw_task_switching/res/20.json     or    13557.045   \n",
       "\n",
       "      cue_1_dur  cue_1_end  ...  or_2_dur  or_2_end  trial_start  trial_end  \\\n",
       "1865     2970.0   3157.891  ...       NaN       NaN      187.891   3157.891   \n",
       "1866     2970.0   6500.268  ...       NaN       NaN     3530.268   6500.268   \n",
       "1867     2970.0   9842.468  ...       NaN       NaN     6872.468   9842.468   \n",
       "1868     2970.0  13184.668  ...       NaN       NaN    10214.668  13184.668   \n",
       "1869     2970.0  16527.045  ...       NaN       NaN    13557.045  16527.045   \n",
       "\n",
       "                                            key_presses  participant_id  \\\n",
       "1865  [{'correct': True, 'key': 'd', 'time': 1074.79...             4.0   \n",
       "1866  [{'correct': True, 'key': 'f', 'time': 4702.29...             4.0   \n",
       "1867  [{'correct': True, 'key': 'f', 'time': 8484.79...             4.0   \n",
       "1868     [{'correct': True, 'key': 'f', 'time': 11712}]             4.0   \n",
       "1869  [{'correct': True, 'key': 'k', 'time': 14480.5...             4.0   \n",
       "\n",
       "      n_responses        rt  response  task_switch  \n",
       "1865          1.0  0.886909       1.0          1.0  \n",
       "1866          1.0  1.172032       1.0          1.0  \n",
       "1867          1.0  1.612332       1.0          0.0  \n",
       "1868          1.0  1.497332       1.0          0.0  \n",
       "1869          1.0  0.923555       1.0          1.0  \n",
       "\n",
       "[5 rows x 44 columns]"
      ],
      "text/html": [
       "<div>\n",
       "<style scoped>\n",
       "    .dataframe tbody tr th:only-of-type {\n",
       "        vertical-align: middle;\n",
       "    }\n",
       "\n",
       "    .dataframe tbody tr th {\n",
       "        vertical-align: top;\n",
       "    }\n",
       "\n",
       "    .dataframe thead th {\n",
       "        text-align: right;\n",
       "    }\n",
       "</style>\n",
       "<table border=\"1\" class=\"dataframe\">\n",
       "  <thead>\n",
       "    <tr style=\"text-align: right;\">\n",
       "      <th></th>\n",
       "      <th>Unnamed: 0</th>\n",
       "      <th>subj_id</th>\n",
       "      <th>prolific_pid</th>\n",
       "      <th>block</th>\n",
       "      <th>trial_index</th>\n",
       "      <th>file_path</th>\n",
       "      <th>task_1</th>\n",
       "      <th>cue_1_start</th>\n",
       "      <th>cue_1_dur</th>\n",
       "      <th>cue_1_end</th>\n",
       "      <th>...</th>\n",
       "      <th>or_2_dur</th>\n",
       "      <th>or_2_end</th>\n",
       "      <th>trial_start</th>\n",
       "      <th>trial_end</th>\n",
       "      <th>key_presses</th>\n",
       "      <th>participant_id</th>\n",
       "      <th>n_responses</th>\n",
       "      <th>rt</th>\n",
       "      <th>response</th>\n",
       "      <th>task_switch</th>\n",
       "    </tr>\n",
       "  </thead>\n",
       "  <tbody>\n",
       "    <tr>\n",
       "      <th>1865</th>\n",
       "      <td>0.0</td>\n",
       "      <td>5aLYmsSb0wjFCzSc</td>\n",
       "      <td>628667709c7e31f9018e77d5</td>\n",
       "      <td>block_1</td>\n",
       "      <td>0.0</td>\n",
       "      <td>./aw_task_switching/res/20.json</td>\n",
       "      <td>or</td>\n",
       "      <td>187.891</td>\n",
       "      <td>2970.0</td>\n",
       "      <td>3157.891</td>\n",
       "      <td>...</td>\n",
       "      <td>NaN</td>\n",
       "      <td>NaN</td>\n",
       "      <td>187.891</td>\n",
       "      <td>3157.891</td>\n",
       "      <td>[{'correct': True, 'key': 'd', 'time': 1074.79...</td>\n",
       "      <td>4.0</td>\n",
       "      <td>1.0</td>\n",
       "      <td>0.886909</td>\n",
       "      <td>1.0</td>\n",
       "      <td>1.0</td>\n",
       "    </tr>\n",
       "    <tr>\n",
       "      <th>1866</th>\n",
       "      <td>1.0</td>\n",
       "      <td>5aLYmsSb0wjFCzSc</td>\n",
       "      <td>628667709c7e31f9018e77d5</td>\n",
       "      <td>block_1</td>\n",
       "      <td>1.0</td>\n",
       "      <td>./aw_task_switching/res/20.json</td>\n",
       "      <td>mov</td>\n",
       "      <td>3530.268</td>\n",
       "      <td>2970.0</td>\n",
       "      <td>6500.268</td>\n",
       "      <td>...</td>\n",
       "      <td>NaN</td>\n",
       "      <td>NaN</td>\n",
       "      <td>3530.268</td>\n",
       "      <td>6500.268</td>\n",
       "      <td>[{'correct': True, 'key': 'f', 'time': 4702.29...</td>\n",
       "      <td>4.0</td>\n",
       "      <td>1.0</td>\n",
       "      <td>1.172032</td>\n",
       "      <td>1.0</td>\n",
       "      <td>1.0</td>\n",
       "    </tr>\n",
       "    <tr>\n",
       "      <th>1867</th>\n",
       "      <td>2.0</td>\n",
       "      <td>5aLYmsSb0wjFCzSc</td>\n",
       "      <td>628667709c7e31f9018e77d5</td>\n",
       "      <td>block_1</td>\n",
       "      <td>2.0</td>\n",
       "      <td>./aw_task_switching/res/20.json</td>\n",
       "      <td>mov</td>\n",
       "      <td>6872.468</td>\n",
       "      <td>2970.0</td>\n",
       "      <td>9842.468</td>\n",
       "      <td>...</td>\n",
       "      <td>NaN</td>\n",
       "      <td>NaN</td>\n",
       "      <td>6872.468</td>\n",
       "      <td>9842.468</td>\n",
       "      <td>[{'correct': True, 'key': 'f', 'time': 8484.79...</td>\n",
       "      <td>4.0</td>\n",
       "      <td>1.0</td>\n",
       "      <td>1.612332</td>\n",
       "      <td>1.0</td>\n",
       "      <td>0.0</td>\n",
       "    </tr>\n",
       "    <tr>\n",
       "      <th>1868</th>\n",
       "      <td>3.0</td>\n",
       "      <td>5aLYmsSb0wjFCzSc</td>\n",
       "      <td>628667709c7e31f9018e77d5</td>\n",
       "      <td>block_1</td>\n",
       "      <td>3.0</td>\n",
       "      <td>./aw_task_switching/res/20.json</td>\n",
       "      <td>mov</td>\n",
       "      <td>10214.668</td>\n",
       "      <td>2970.0</td>\n",
       "      <td>13184.668</td>\n",
       "      <td>...</td>\n",
       "      <td>NaN</td>\n",
       "      <td>NaN</td>\n",
       "      <td>10214.668</td>\n",
       "      <td>13184.668</td>\n",
       "      <td>[{'correct': True, 'key': 'f', 'time': 11712}]</td>\n",
       "      <td>4.0</td>\n",
       "      <td>1.0</td>\n",
       "      <td>1.497332</td>\n",
       "      <td>1.0</td>\n",
       "      <td>0.0</td>\n",
       "    </tr>\n",
       "    <tr>\n",
       "      <th>1869</th>\n",
       "      <td>4.0</td>\n",
       "      <td>5aLYmsSb0wjFCzSc</td>\n",
       "      <td>628667709c7e31f9018e77d5</td>\n",
       "      <td>block_1</td>\n",
       "      <td>4.0</td>\n",
       "      <td>./aw_task_switching/res/20.json</td>\n",
       "      <td>or</td>\n",
       "      <td>13557.045</td>\n",
       "      <td>2970.0</td>\n",
       "      <td>16527.045</td>\n",
       "      <td>...</td>\n",
       "      <td>NaN</td>\n",
       "      <td>NaN</td>\n",
       "      <td>13557.045</td>\n",
       "      <td>16527.045</td>\n",
       "      <td>[{'correct': True, 'key': 'k', 'time': 14480.5...</td>\n",
       "      <td>4.0</td>\n",
       "      <td>1.0</td>\n",
       "      <td>0.923555</td>\n",
       "      <td>1.0</td>\n",
       "      <td>1.0</td>\n",
       "    </tr>\n",
       "  </tbody>\n",
       "</table>\n",
       "<p>5 rows × 44 columns</p>\n",
       "</div>"
      ]
     },
     "execution_count": 13,
     "metadata": {},
     "output_type": "execute_result"
    }
   ],
   "execution_count": 13
  },
  {
   "cell_type": "code",
   "source": [
    "df_move = df[df['task_1'] == 'mov']\n",
    "df_or = df[df['task_1']=='or']\n",
    "\n",
    "error_move = len(df_move[df_move['response']==-1.0]['response'])\n",
    "error_or = len(df_or[df_or['response']==-1.0]['response'])\n",
    "\n",
    "error_rate_move = (error_move / len(df_move)) * 100\n",
    "error_rate_or = (error_or / len(df_or)) * 100\n",
    "\n",
    "fig, ax = plt.subplots()\n",
    "\n",
    "bar1 = ax.bar('move', error_rate_move)\n",
    "bar2 = ax.bar('orientation', error_rate_or)\n",
    "\n",
    "ax.set_xlabel('task')\n",
    "ax.set_ylabel('Error (%)')\n"
   ],
   "metadata": {
    "colab": {
     "base_uri": "https://localhost:8080/",
     "height": 467
    },
    "id": "YJsOTP3_SIV_",
    "outputId": "477fbda6-3e86-4a73-e63b-6dd095f98ed6",
    "ExecuteTime": {
     "end_time": "2024-07-20T15:12:00.113422Z",
     "start_time": "2024-07-20T15:12:00.019741Z"
    }
   },
   "id": "YJsOTP3_SIV_",
   "outputs": [
    {
     "data": {
      "text/plain": [
       "Text(0, 0.5, 'Error (%)')"
      ]
     },
     "execution_count": 14,
     "metadata": {},
     "output_type": "execute_result"
    },
    {
     "data": {
      "text/plain": [
       "<Figure size 640x480 with 1 Axes>"
      ],
      "image/png": "[encoded data removed]"
     },
     "metadata": {},
     "output_type": "display_data"
    }
   ],
   "execution_count": 14
  },
  {
   "cell_type": "code",
   "source": [
    "# Accuracy in Task Switching\n",
    "\n",
    "df_switch = df[df['task_switch']==1]\n",
    "df_repeat = df[df['task_switch']==0]\n",
    "\n",
    "error_switch = len(df_switch[df_switch['response']==-1])\n",
    "error_repeat = len(df_repeat[df_repeat['response']==-1])\n",
    "\n",
    "error_rate_switch = (error_switch / len(df_switch)) * 100\n",
    "error_rate_repeat = (error_repeat / len(df_repeat)) * 100\n",
    "\n",
    "fig, ax = plt.subplots()\n",
    "\n",
    "bar1 = ax.bar('Switch', error_rate_switch)\n",
    "bar2 = ax.bar('Repeat', error_rate_repeat)\n",
    "\n",
    "ax.set_xlabel('Task Transition')\n",
    "ax.set_ylabel('Error (%)')"
   ],
   "metadata": {
    "colab": {
     "base_uri": "https://localhost:8080/",
     "height": 467
    },
    "id": "C8ApCAakSf6d",
    "outputId": "bff872bd-84dd-41cf-d06d-575b37d6e208",
    "ExecuteTime": {
     "end_time": "2024-07-20T15:12:02.185721Z",
     "start_time": "2024-07-20T15:12:02.125083Z"
    }
   },
   "id": "C8ApCAakSf6d",
   "outputs": [
    {
     "data": {
      "text/plain": [
       "Text(0, 0.5, 'Error (%)')"
      ]
     },
     "execution_count": 15,
     "metadata": {},
     "output_type": "execute_result"
    },
    {
     "data": {
      "text/plain": [
       "<Figure size 640x480 with 1 Axes>"
      ],
      "image/png": "[encoded data removed]"
     },
     "metadata": {},
     "output_type": "display_data"
    }
   ],
   "execution_count": 15
  },
  {
   "cell_type": "code",
   "source": [
    "# RTs in Task Switching\n",
    "\n",
    "rt_switch = df_switch['rt'].mean()\n",
    "rt_repeat = df_repeat['rt'].mean()\n",
    "\n",
    "\n",
    "\n",
    "fig, ax = plt.subplots()\n",
    "\n",
    "bar1 = ax.bar('Switch', rt_switch)\n",
    "bar2 = ax.bar('Repeat', rt_repeat)\n",
    "\n",
    "ax.set_xlabel('Task Transition')\n",
    "ax.set_ylabel('Reaction Times')"
   ],
   "metadata": {
    "colab": {
     "base_uri": "https://localhost:8080/",
     "height": 467
    },
    "id": "gA_vv5U8S3FD",
    "outputId": "46e65a24-b6e3-45b0-82ce-11507f8dc0ba",
    "ExecuteTime": {
     "end_time": "2024-07-20T15:12:03.498413Z",
     "start_time": "2024-07-20T15:12:03.441987Z"
    }
   },
   "id": "gA_vv5U8S3FD",
   "outputs": [
    {
     "data": {
      "text/plain": [
       "Text(0, 0.5, 'Reaction Times')"
      ]
     },
     "execution_count": 16,
     "metadata": {},
     "output_type": "execute_result"
    },
    {
     "data": {
      "text/plain": [
       "<Figure size 640x480 with 1 Axes>"
      ],
      "image/png": "[encoded data removed]"
     },
     "metadata": {},
     "output_type": "display_data"
    }
   ],
   "execution_count": 16
  },
  {
   "cell_type": "code",
   "source": [
    "# Looking at trial durations\n",
    "trialdur_1845 = df[df['cue_1_dur']==1845]\n",
    "trialdur_2200 = df[df['cue_1_dur']==2200]\n",
    "trialdur_2300 = df[df['cue_1_dur']==2300]\n",
    "trialdur_2600 = df[df['cue_1_dur']==2600]\n",
    "trialdur_2800 = df[df['cue_1_dur']==2800]\n",
    "trialdur_2900 = df[df['cue_1_dur']==2900]\n",
    "trialdur_2970 = df[df['cue_1_dur']==2970]\n",
    "trialdur_3000 = df[df['cue_1_dur']==3000]\n",
    "\n",
    "error_1845 = len(trialdur_1845[trialdur_1845['response']==-1.0]['response'])\n",
    "error_rate_1845 = (error_1845 / len(trialdur_1845)) * 100\n",
    "\n",
    "error_2200 = len(trialdur_2200[trialdur_2200['response']==-1.0]['response'])\n",
    "error_rate_2200 = (error_2200 / len(trialdur_2200)) * 100\n",
    "\n",
    "error_2300 = len(trialdur_2300[trialdur_2300['response']==-1.0]['response'])\n",
    "error_rate_2300 = (error_2300 / len(trialdur_2300)) * 100\n",
    "\n",
    "error_2600 = len(trialdur_2600[trialdur_2600['response']==-1.0]['response'])\n",
    "error_rate_2600 = (error_2600 / len(trialdur_2600)) * 100\n",
    "\n",
    "error_2800 = len(trialdur_2800[trialdur_2800['response']==-1.0]['response'])\n",
    "error_rate_2800 = (error_2800 / len(trialdur_2800)) * 100\n",
    "\n",
    "error_2900 = len(trialdur_2900[trialdur_2900['response']==-1.0]['response'])\n",
    "error_rate_2900 = (error_2900 / len(trialdur_2900)) * 100\n",
    "\n",
    "error_2970 = len(trialdur_2970[trialdur_2970['response']==-1.0]['response'])\n",
    "error_rate_2970 = (error_2970 / len(trialdur_2970)) * 100\n",
    "\n",
    "error_3000 = len(trialdur_3000[trialdur_3000['response']==-1.0]['response'])\n",
    "error_rate_3000 = (error_3000 / len(trialdur_3000)) * 100\n",
    "\n",
    "fig, ax = plt.subplots()\n",
    "\n",
    "bar1 = ax.bar('1845', error_rate_1845)\n",
    "bar2 = ax.bar('2200', error_rate_2200)\n",
    "bar3 = ax.bar('2300', error_rate_2300)\n",
    "bar4 = ax.bar('2600', error_rate_2600)\n",
    "bar5 = ax.bar('2800', error_rate_2800)\n",
    "bar6 = ax.bar('2900', error_rate_2900)\n",
    "bar7 = ax.bar('2970', error_rate_2970)\n",
    "bar8 = ax.bar('3000', error_rate_3000)\n",
    "\n",
    "ax.set_xlabel('Trial Durations(ms)')\n",
    "ax.set_ylabel('Error rates (%)')"
   ],
   "metadata": {
    "colab": {
     "base_uri": "https://localhost:8080/",
     "height": 467
    },
    "id": "1Lzz0oV1S6uK",
    "outputId": "2c2c9672-6a38-4ff0-ad6b-dd18b183ebb8",
    "ExecuteTime": {
     "end_time": "2024-07-20T15:12:04.762747Z",
     "start_time": "2024-07-20T15:12:04.681169Z"
    }
   },
   "id": "1Lzz0oV1S6uK",
   "outputs": [
    {
     "data": {
      "text/plain": [
       "Text(0, 0.5, 'Error rates (%)')"
      ]
     },
     "execution_count": 17,
     "metadata": {},
     "output_type": "execute_result"
    },
    {
     "data": {
      "text/plain": [
       "<Figure size 640x480 with 1 Axes>"
      ],
      "image/png": "[encoded data removed]"
     },
     "metadata": {},
     "output_type": "display_data"
    }
   ],
   "execution_count": 17
  },
  {
   "cell_type": "markdown",
   "source": [
    "## Stats on Maximum Trial Length across Paricipants"
   ],
   "metadata": {
    "id": "qMMrhBETVZ1R"
   },
   "id": "qMMrhBETVZ1R"
  },
  {
   "cell_type": "code",
   "source": [
    "trial_length_count = df['cue_1_dur'].value_counts().sort_index()\n",
    "trial_length_participants = df.groupby('cue_1_dur')['participant_id'].nunique()\n",
    "\n",
    "df_trials = pd.DataFrame(\n",
    "    np.column_stack(\n",
    "        [np.unique(df['cue_1_dur']), trial_length_count, trial_length_count/sum(trial_length_count), trial_length_participants, trial_length_participants/sum(trial_length_participants)]\n",
    "    ),\n",
    "    columns=['trialDuration', 'trialCount', 'trialPercentage', 'participantCount', 'participantPercentage']\n",
    ")\n",
    "\n",
    "df_trials"
   ],
   "metadata": {
    "colab": {
     "base_uri": "https://localhost:8080/",
     "height": 300
    },
    "id": "JHKpG6y7VTR-",
    "outputId": "03f2d701-d074-445d-b6ab-935efb52d574",
    "ExecuteTime": {
     "end_time": "2024-07-20T15:12:08.101145Z",
     "start_time": "2024-07-20T15:12:08.089833Z"
    }
   },
   "id": "JHKpG6y7VTR-",
   "outputs": [
    {
     "data": {
      "text/plain": [
       "   trialDuration  trialCount  trialPercentage  participantCount  \\\n",
       "0         1845.0       640.0         0.046784               2.0   \n",
       "1         2200.0       320.0         0.023392               1.0   \n",
       "2         2300.0      3840.0         0.280702              12.0   \n",
       "3         2600.0      1200.0         0.087719               4.0   \n",
       "4         2800.0       960.0         0.070175               3.0   \n",
       "5         2900.0      2560.0         0.187135               8.0   \n",
       "6         2970.0      3200.0         0.233918              10.0   \n",
       "7         3000.0       960.0         0.070175               3.0   \n",
       "\n",
       "   participantPercentage  \n",
       "0               0.046512  \n",
       "1               0.023256  \n",
       "2               0.279070  \n",
       "3               0.093023  \n",
       "4               0.069767  \n",
       "5               0.186047  \n",
       "6               0.232558  \n",
       "7               0.069767  "
      ],
      "text/html": [
       "<div>\n",
       "<style scoped>\n",
       "    .dataframe tbody tr th:only-of-type {\n",
       "        vertical-align: middle;\n",
       "    }\n",
       "\n",
       "    .dataframe tbody tr th {\n",
       "        vertical-align: top;\n",
       "    }\n",
       "\n",
       "    .dataframe thead th {\n",
       "        text-align: right;\n",
       "    }\n",
       "</style>\n",
       "<table border=\"1\" class=\"dataframe\">\n",
       "  <thead>\n",
       "    <tr style=\"text-align: right;\">\n",
       "      <th></th>\n",
       "      <th>trialDuration</th>\n",
       "      <th>trialCount</th>\n",
       "      <th>trialPercentage</th>\n",
       "      <th>participantCount</th>\n",
       "      <th>participantPercentage</th>\n",
       "    </tr>\n",
       "  </thead>\n",
       "  <tbody>\n",
       "    <tr>\n",
       "      <th>0</th>\n",
       "      <td>1845.0</td>\n",
       "      <td>640.0</td>\n",
       "      <td>0.046784</td>\n",
       "      <td>2.0</td>\n",
       "      <td>0.046512</td>\n",
       "    </tr>\n",
       "    <tr>\n",
       "      <th>1</th>\n",
       "      <td>2200.0</td>\n",
       "      <td>320.0</td>\n",
       "      <td>0.023392</td>\n",
       "      <td>1.0</td>\n",
       "      <td>0.023256</td>\n",
       "    </tr>\n",
       "    <tr>\n",
       "      <th>2</th>\n",
       "      <td>2300.0</td>\n",
       "      <td>3840.0</td>\n",
       "      <td>0.280702</td>\n",
       "      <td>12.0</td>\n",
       "      <td>0.279070</td>\n",
       "    </tr>\n",
       "    <tr>\n",
       "      <th>3</th>\n",
       "      <td>2600.0</td>\n",
       "      <td>1200.0</td>\n",
       "      <td>0.087719</td>\n",
       "      <td>4.0</td>\n",
       "      <td>0.093023</td>\n",
       "    </tr>\n",
       "    <tr>\n",
       "      <th>4</th>\n",
       "      <td>2800.0</td>\n",
       "      <td>960.0</td>\n",
       "      <td>0.070175</td>\n",
       "      <td>3.0</td>\n",
       "      <td>0.069767</td>\n",
       "    </tr>\n",
       "    <tr>\n",
       "      <th>5</th>\n",
       "      <td>2900.0</td>\n",
       "      <td>2560.0</td>\n",
       "      <td>0.187135</td>\n",
       "      <td>8.0</td>\n",
       "      <td>0.186047</td>\n",
       "    </tr>\n",
       "    <tr>\n",
       "      <th>6</th>\n",
       "      <td>2970.0</td>\n",
       "      <td>3200.0</td>\n",
       "      <td>0.233918</td>\n",
       "      <td>10.0</td>\n",
       "      <td>0.232558</td>\n",
       "    </tr>\n",
       "    <tr>\n",
       "      <th>7</th>\n",
       "      <td>3000.0</td>\n",
       "      <td>960.0</td>\n",
       "      <td>0.070175</td>\n",
       "      <td>3.0</td>\n",
       "      <td>0.069767</td>\n",
       "    </tr>\n",
       "  </tbody>\n",
       "</table>\n",
       "</div>"
      ]
     },
     "execution_count": 18,
     "metadata": {},
     "output_type": "execute_result"
    }
   ],
   "execution_count": 18
  },
  {
   "metadata": {
    "id": "361bca15f9343953"
   },
   "cell_type": "markdown",
   "source": [
    "### Plot RTs"
   ],
   "id": "361bca15f9343953"
  },
  {
   "metadata": {
    "ExecuteTime": {
     "end_time": "2024-07-19T22:19:57.758803Z",
     "start_time": "2024-07-19T22:19:57.585351Z"
    }
   },
   "cell_type": "code",
   "source": [
    "df['rt'] = df['response_time_0'] / 1000\n",
    "df['response'] = df.apply(lambda row: 1.0 if len(row['key_presses']) > 0 and row['key_presses'][0]['correct'] else -1.0, axis=1)"
   ],
   "id": "5fc83068164c6b0f",
   "outputs": [],
   "execution_count": 31
  },
  {
   "metadata": {
    "id": "b3cd54daec1893f9",
    "outputId": "1c387d4d-f235-485b-de41-bc900fda3dc1",
    "colab": {
     "base_uri": "https://localhost:8080/",
     "height": 490
    },
    "ExecuteTime": {
     "end_time": "2024-07-20T10:17:47.951252Z",
     "start_time": "2024-07-20T10:17:47.809545Z"
    }
   },
   "cell_type": "code",
   "source": [
    "plt.hist(df['rt'] * df['response'],\n",
    "         histtype='step', bins = 40, density=True)\n",
    "plt.xlabel('rt')\n",
    "plt.ylabel('density')\n",
    "plt.xlim(-4, 4)"
   ],
   "id": "b3cd54daec1893f9",
   "outputs": [
    {
     "data": {
      "text/plain": [
       "(-4.0, 4.0)"
      ]
     },
     "execution_count": 113,
     "metadata": {},
     "output_type": "execute_result"
    },
    {
     "data": {
      "text/plain": [
       "<Figure size 640x480 with 1 Axes>"
      ],
      "image/png": "[encoded data removed]"
     },
     "metadata": {},
     "output_type": "display_data"
    }
   ],
   "execution_count": 113
  }
 ],
 "metadata": {
  "kernelspec": {
   "display_name": "Python 3",
   "language": "python",
   "name": "python3"
  },
  "language_info": {
   "codemirror_mode": {
    "name": "ipython",
    "version": 2
   },
   "file_extension": ".py",
   "mimetype": "text/x-python",
   "name": "python",
   "nbconvert_exporter": "python",
   "pygments_lexer": "ipython2",
   "version": "2.7.6"
  },
  "colab": {
   "provenance": []
  }
 },
 "nbformat": 4,
 "nbformat_minor": 5
}
