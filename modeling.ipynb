{
 "cells": [
  {
   "metadata": {},
   "cell_type": "markdown",
   "source": "Imports",
   "id": "52e4d3ef1ddf4ece"
  },
  {
   "cell_type": "code",
   "id": "initial_id",
   "metadata": {
    "collapsed": true,
    "ExecuteTime": {
     "end_time": "2024-07-17T15:23:44.998760Z",
     "start_time": "2024-07-17T15:23:38.974772Z"
    }
   },
   "source": [
    "import hssm\n",
    "import pandas as pd"
   ],
   "outputs": [],
   "execution_count": 2
  },
  {
   "metadata": {},
   "cell_type": "markdown",
   "source": "Load data",
   "id": "112d4adfd54167b9"
  },
  {
   "metadata": {
    "ExecuteTime": {
     "end_time": "2024-07-17T15:23:45.930719Z",
     "start_time": "2024-07-17T15:23:45.697493Z"
    }
   },
   "cell_type": "code",
   "source": "df = pd.read_csv('data/switching_interference_preprocessed.csv')",
   "id": "9a7b38a0b1317ddc",
   "outputs": [],
   "execution_count": 3
  },
  {
   "metadata": {
    "ExecuteTime": {
     "end_time": "2024-07-17T15:23:57.106699Z",
     "start_time": "2024-07-17T15:23:46.496122Z"
    }
   },
   "cell_type": "code",
   "source": [
    "basic_ddm_model = hssm.HSSM(data=df)\n",
    "basic_ddm_model"
   ],
   "id": "7de23ed021cf288b",
   "outputs": [
    {
     "data": {
      "text/plain": [
       "Hierarchical Sequential Sampling Model\n",
       "Model: ddm\n",
       "\n",
       "Response variable: rt,response\n",
       "Likelihood: analytical\n",
       "Observations: 72242\n",
       "\n",
       "Parameters:\n",
       "\n",
       "v:\n",
       "    Prior: Normal(mu: 0.0, sigma: 2.0)\n",
       "    Explicit bounds: (-inf, inf)\n",
       "\n",
       "a:\n",
       "    Prior: HalfNormal(sigma: 2.0)\n",
       "    Explicit bounds: (0.0, inf)\n",
       "\n",
       "z:\n",
       "    Prior: Uniform(lower: 0.0, upper: 1.0)\n",
       "    Explicit bounds: (0.0, 1.0)\n",
       "\n",
       "t:\n",
       "    Prior: HalfNormal(sigma: 2.0)\n",
       "    Explicit bounds: (0.0, inf)\n",
       "\n",
       "\n",
       "Lapse probability: 0.05\n",
       "Lapse distribution: Uniform(lower: 0.0, upper: 10.0)"
      ]
     },
     "execution_count": 4,
     "metadata": {},
     "output_type": "execute_result"
    }
   ],
   "execution_count": 4
  },
  {
   "metadata": {},
   "cell_type": "markdown",
   "source": "Sample from the model",
   "id": "28869de881ae614d"
  },
  {
   "metadata": {
    "jupyter": {
     "is_executing": true
    },
    "ExecuteTime": {
     "start_time": "2024-07-17T15:25:40.970649Z"
    }
   },
   "cell_type": "code",
   "source": [
    "basic_ddm_model_sample = basic_ddm_model.sample(\n",
    "    sampler=\"nuts_numpyro\",\n",
    "    cores=4,\n",
    "    chains=4,\n",
    "    draws=1000,\n",
    "    tune=1000,\n",
    "    idata_kwargs=dict(log_likelihood=True)\n",
    ")"
   ],
   "id": "f6c4fa6df1da2833",
   "outputs": [
    {
     "data": {
      "text/plain": [
       "  0%|          | 0/2000 [00:00<?, ?it/s]"
      ],
      "application/vnd.jupyter.widget-view+json": {
       "version_major": 2,
       "version_minor": 0,
       "model_id": "af5e8be126e74d3985ec7aefbd390e29"
      }
     },
     "metadata": {},
     "output_type": "display_data"
    },
    {
     "data": {
      "text/plain": [
       "  0%|          | 0/2000 [00:00<?, ?it/s]"
      ],
      "application/vnd.jupyter.widget-view+json": {
       "version_major": 2,
       "version_minor": 0,
       "model_id": "03f2adb1d43b4bd7a9f24eed3670906a"
      }
     },
     "metadata": {},
     "output_type": "display_data"
    },
    {
     "data": {
      "text/plain": [
       "  0%|          | 0/2000 [00:00<?, ?it/s]"
      ],
      "application/vnd.jupyter.widget-view+json": {
       "version_major": 2,
       "version_minor": 0,
       "model_id": "9a033aa35a604c4891118f13bee2a37f"
      }
     },
     "metadata": {},
     "output_type": "display_data"
    },
    {
     "data": {
      "text/plain": [
       "  0%|          | 0/2000 [00:00<?, ?it/s]"
      ],
      "application/vnd.jupyter.widget-view+json": {
       "version_major": 2,
       "version_minor": 0,
       "model_id": "1eeba863c11647aca9940e2f77a35911"
      }
     },
     "metadata": {},
     "output_type": "display_data"
    }
   ],
   "execution_count": null
  },
  {
   "metadata": {},
   "cell_type": "code",
   "outputs": [],
   "execution_count": null,
   "source": "",
   "id": "c890b1d2575dce31"
  }
 ],
 "metadata": {
  "kernelspec": {
   "display_name": "Python 3",
   "language": "python",
   "name": "python3"
  },
  "language_info": {
   "codemirror_mode": {
    "name": "ipython",
    "version": 2
   },
   "file_extension": ".py",
   "mimetype": "text/x-python",
   "name": "python",
   "nbconvert_exporter": "python",
   "pygments_lexer": "ipython2",
   "version": "2.7.6"
  }
 },
 "nbformat": 4,
 "nbformat_minor": 5
}
